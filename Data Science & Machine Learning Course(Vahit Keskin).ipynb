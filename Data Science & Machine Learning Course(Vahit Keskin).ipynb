{
 "cells": [
  {
   "cell_type": "markdown",
   "id": "89bd3ce1",
   "metadata": {},
   "source": [
    "Bir seride en çok tekrar eden değere **MOD** adı verilir"
   ]
  },
  {
   "cell_type": "markdown",
   "id": "4f501a52",
   "metadata": {},
   "source": [
    "Küçükten büyüğe sıralanan bir seriyi 4 parçaya ayıran değerlere **KARTİLLER** denir.Quartiles\n",
    "8, 10, 15, 12, 17, 20, 14\n",
    "8, 10, 12, 14, 15, 17, 20\n",
    "10 , 14 , 17\n",
    "\n",
    "Q1 = 1/4(N+1).TERİM\n",
    "\n",
    "Q1 = 3/4(N+1).TERİM\n",
    "\n",
    "Q1 = Q3 - Q1\n",
    "\n",
    "Serinin merkezi eğilimi hakkında bilgi almak için kullanılır. Merkezin sağında ve solunda ki eğilimleri almak için kullanılır."
   ]
  },
  {
   "cell_type": "markdown",
   "id": "3725c6e9",
   "metadata": {},
   "source": [
    "Merkezi Eğilimin Önemini Kavrama\n",
    "\n",
    "1- Temsil Yönünü Kavramaka\n",
    "\n",
    "2- Doğru kullanılması\n",
    "\n"
   ]
  },
  {
   "cell_type": "markdown",
   "id": "38438464",
   "metadata": {},
   "source": [
    "Dağılım Ölçüleri\n",
    "\n",
    "**(Range)Değişim Aralığı** = Maksimum Değer - Minimum Değer\n",
    "\n",
    "8, 10, 15, 12, 17, 20, 14\n",
    "\n",
    "Değişim Aralığı = 20 - 8 = 12\n",
    "\n",
    "**Standart Sapma**"
   ]
  },
  {
   "cell_type": "code",
   "execution_count": null,
   "id": "0a32d8d2",
   "metadata": {},
   "outputs": [],
   "source": []
  }
 ],
 "metadata": {
  "kernelspec": {
   "display_name": "Python 3 (ipykernel)",
   "language": "python",
   "name": "python3"
  },
  "language_info": {
   "codemirror_mode": {
    "name": "ipython",
    "version": 3
   },
   "file_extension": ".py",
   "mimetype": "text/x-python",
   "name": "python",
   "nbconvert_exporter": "python",
   "pygments_lexer": "ipython3",
   "version": "3.11.5"
  }
 },
 "nbformat": 4,
 "nbformat_minor": 5
}
