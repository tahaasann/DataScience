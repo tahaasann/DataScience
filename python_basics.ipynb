{
 "cells": [
  {
   "cell_type": "markdown",
   "metadata": {},
   "source": [
    "Variables are an essential part of Python and any programming language. A variable is a name that references or points to an object. You can declare a variable by writing the variable name on the left side of the assignment operator = and specifying the value to assign to that variable on the right side of the assignment operator:\n",
    "\n",
    "variable_name = value"
   ]
  },
  {
   "cell_type": "code",
   "execution_count": 1,
   "metadata": {},
   "outputs": [],
   "source": [
    "number = 5"
   ]
  },
  {
   "cell_type": "markdown",
   "metadata": {},
   "source": [
    "Variables can store values of different data types. You just assigned an integer value, but if you want to represent some text, you need to assign a string. Strings are sequences of characters enclosed by single or double quotes, but you cannot start a string with a single quote and end it with a double quote or vice versa:\n",
    "\n",
    "string_1 = \"I am a string\"\n",
    "string_2 = 'I am also a string'\n",
    "string_3 = 'This is not valid\""
   ]
  },
  {
   "cell_type": "code",
   "execution_count": 2,
   "metadata": {},
   "outputs": [],
   "source": [
    "text = 'Hello World'"
   ]
  },
  {
   "cell_type": "markdown",
   "metadata": {},
   "source": [
    "You can use the built-in function print() to print the output of your code on the terminal.\n",
    "\n",
    "Functions are reusable code blocks that you can call (run) when you need them. To call (or invoke) a function, you just need to write a pair of parentheses next to its name. You will learn more about functions very soon."
   ]
  },
  {
   "cell_type": "code",
   "execution_count": 3,
   "metadata": {},
   "outputs": [
    {
     "name": "stdout",
     "output_type": "stream",
     "text": [
      "\n"
     ]
    }
   ],
   "source": [
    "print()"
   ]
  },
  {
   "cell_type": "markdown",
   "metadata": {},
   "source": [
    "An argument is an object or an expression passed to a function — added between the opening and closing parentheses — when it is called:\n",
    "\n",
    "greet = 'Hello!'\n",
    "print(greet)\n",
    "The code in the example above would print the string Hello!, which is the value of the variable greet passed to print() as the argument."
   ]
  },
  {
   "cell_type": "code",
   "execution_count": 4,
   "metadata": {},
   "outputs": [
    {
     "name": "stdout",
     "output_type": "stream",
     "text": [
      "Hello World\n"
     ]
    }
   ],
   "source": [
    "print(text)"
   ]
  },
  {
   "cell_type": "markdown",
   "metadata": {},
   "source": [
    "Each string character can be referenced by a numerical index. The index count starts at zero. So the first character of a string has an index of 0. For example, in the string Hello World, H is at index 0, e is at index 1, and so on.\n",
    "\n",
    "Each character of a string can be accessed by using bracket notation. You need to write the variable name followed by square brackets and add the index of the character between the brackets:\n",
    "\n",
    "text = 'Hello World'\n",
    "r = text[8]"
   ]
  },
  {
   "cell_type": "code",
   "execution_count": 5,
   "metadata": {},
   "outputs": [
    {
     "name": "stdout",
     "output_type": "stream",
     "text": [
      "W\n"
     ]
    }
   ],
   "source": [
    "print(text[6])"
   ]
  },
  {
   "cell_type": "markdown",
   "metadata": {},
   "source": [
    "You can also access string characters starting from the end of the string. The last character has an index of -1, the second to last -2 and so on."
   ]
  },
  {
   "cell_type": "code",
   "execution_count": 6,
   "metadata": {},
   "outputs": [
    {
     "name": "stdout",
     "output_type": "stream",
     "text": [
      "d\n"
     ]
    }
   ],
   "source": [
    "print(text[-1])"
   ]
  },
  {
   "cell_type": "markdown",
   "metadata": {},
   "source": [
    "You can access the number of characters in a string with the built-in len() function."
   ]
  },
  {
   "cell_type": "code",
   "execution_count": 7,
   "metadata": {},
   "outputs": [
    {
     "name": "stdout",
     "output_type": "stream",
     "text": [
      "11\n"
     ]
    }
   ],
   "source": [
    "print(len(text))"
   ]
  },
  {
   "cell_type": "markdown",
   "metadata": {},
   "source": [
    "You can see 11 printed on the terminal because Hello World contains 11 characters.\n",
    "\n",
    "Another useful built-in function is type(), which returns the data type of a variable."
   ]
  },
  {
   "cell_type": "code",
   "execution_count": 8,
   "metadata": {},
   "outputs": [
    {
     "name": "stdout",
     "output_type": "stream",
     "text": [
      "<class 'str'>\n"
     ]
    }
   ],
   "source": [
    "print(type(text))"
   ]
  },
  {
   "cell_type": "markdown",
   "metadata": {},
   "source": [
    "As you can see, the output of printing type(text) is <class 'str'>, which means that your variable is a string, indicated as str."
   ]
  },
  {
   "cell_type": "code",
   "execution_count": 9,
   "metadata": {},
   "outputs": [],
   "source": [
    "shift = 3"
   ]
  },
  {
   "cell_type": "code",
   "execution_count": 10,
   "metadata": {},
   "outputs": [
    {
     "name": "stdout",
     "output_type": "stream",
     "text": [
      "3\n"
     ]
    }
   ],
   "source": [
    "print(shift)"
   ]
  },
  {
   "cell_type": "code",
   "execution_count": 11,
   "metadata": {},
   "outputs": [
    {
     "name": "stdout",
     "output_type": "stream",
     "text": [
      "<class 'int'>\n"
     ]
    }
   ],
   "source": [
    "print(type(shift))"
   ]
  },
  {
   "cell_type": "markdown",
   "metadata": {},
   "source": []
  },
  {
   "cell_type": "code",
   "execution_count": 12,
   "metadata": {},
   "outputs": [
    {
     "name": "stdout",
     "output_type": "stream",
     "text": [
      "3\n"
     ]
    }
   ],
   "source": [
    "print(1+2)"
   ]
  },
  {
   "cell_type": "markdown",
   "metadata": {},
   "source": [
    "Key aspects of variable naming in Python are:\n",
    "\n",
    "Some words are reserved keywords (e.g. for, while, True). They have a special meaning in Python, so you cannot use them for variable names.\n",
    "Variable names cannot start with a number, and they can only contain alpha-numeric characters or underscores.\n",
    "Variable names are case sensitive, i.e. my_var is different from my_Var and MY_VAR.\n",
    "Finally, it is a common convention to write variable names using snake_case, where each space is replaced by an underscore character and the words are written in lowercase letters."
   ]
  },
  {
   "cell_type": "code",
   "execution_count": 13,
   "metadata": {},
   "outputs": [],
   "source": [
    "alphabet = \"abcdefghijklmnopqrstuvwxyz\""
   ]
  },
  {
   "cell_type": "code",
   "execution_count": 14,
   "metadata": {
    "scrolled": true
   },
   "outputs": [
    {
     "data": {
      "text/plain": [
       "-1"
      ]
     },
     "execution_count": 14,
     "metadata": {},
     "output_type": "execute_result"
    }
   ],
   "source": [
    "alphabet.find(text[0])"
   ]
  },
  {
   "cell_type": "markdown",
   "metadata": {},
   "source": [
    "The print() function gives you only an output in the console, but functions and methods can have a return value that you can use in your code."
   ]
  },
  {
   "cell_type": "code",
   "execution_count": 15,
   "metadata": {},
   "outputs": [],
   "source": [
    "index = alphabet.find(text[0])"
   ]
  },
  {
   "cell_type": "code",
   "execution_count": 16,
   "metadata": {},
   "outputs": [
    {
     "name": "stdout",
     "output_type": "stream",
     "text": [
      "-1\n"
     ]
    }
   ],
   "source": [
    "print(index)"
   ]
  },
  {
   "cell_type": "markdown",
   "metadata": {},
   "source": [
    ".find() returns the index of the matching character inside the string. If the character is not found, it returns -1. As you can see, the first character in text, uppercase 'H', is not found, since alphabet contains only lowercase letters.\n",
    "\n",
    "You can transform a string into its lowercase equivalent with the .lower() method. "
   ]
  },
  {
   "cell_type": "code",
   "execution_count": 17,
   "metadata": {},
   "outputs": [
    {
     "name": "stdout",
     "output_type": "stream",
     "text": [
      "hello world\n"
     ]
    }
   ],
   "source": [
    "print(text.lower())"
   ]
  },
  {
   "cell_type": "code",
   "execution_count": 18,
   "metadata": {},
   "outputs": [
    {
     "name": "stdout",
     "output_type": "stream",
     "text": [
      "7\n"
     ]
    }
   ],
   "source": [
    "index = alphabet.find(text[0].lower())\n",
    "print(index)"
   ]
  },
  {
   "cell_type": "code",
   "execution_count": 19,
   "metadata": {},
   "outputs": [
    {
     "name": "stdout",
     "output_type": "stream",
     "text": [
      "h\n"
     ]
    }
   ],
   "source": [
    "shifted = alphabet[index]\n",
    "print(shifted)"
   ]
  },
  {
   "cell_type": "code",
   "execution_count": 20,
   "metadata": {},
   "outputs": [],
   "source": [
    "shifted = alphabet[index + shift]"
   ]
  },
  {
   "cell_type": "code",
   "execution_count": 21,
   "metadata": {},
   "outputs": [
    {
     "name": "stdout",
     "output_type": "stream",
     "text": [
      "H\n",
      "e\n",
      "l\n",
      "l\n",
      "o\n",
      " \n",
      "W\n",
      "o\n",
      "r\n",
      "l\n",
      "d\n"
     ]
    }
   ],
   "source": [
    "for i in text:\n",
    "    print(i)"
   ]
  },
  {
   "cell_type": "code",
   "execution_count": 24,
   "metadata": {},
   "outputs": [
    {
     "name": "stdout",
     "output_type": "stream",
     "text": [
      "H -1\n",
      "e 4\n",
      "l 11\n",
      "l 11\n",
      "o 14\n",
      "  -1\n",
      "W -1\n",
      "o 14\n",
      "r 17\n",
      "l 11\n",
      "d 3\n"
     ]
    }
   ],
   "source": [
    "for char in text:\n",
    "    index=alphabet.find(char)\n",
    "    print(char,index)\n",
    "    "
   ]
  },
  {
   "cell_type": "code",
   "execution_count": 25,
   "metadata": {},
   "outputs": [
    {
     "name": "stdout",
     "output_type": "stream",
     "text": [
      "h 7\n",
      "e 4\n",
      "l 11\n",
      "l 11\n",
      "o 14\n",
      "  -1\n",
      "w 22\n",
      "o 14\n",
      "r 17\n",
      "l 11\n",
      "d 3\n"
     ]
    }
   ],
   "source": [
    "for char in text.lower():\n",
    "    index=alphabet.find(char)\n",
    "    print(char,index)"
   ]
  },
  {
   "cell_type": "code",
   "execution_count": 26,
   "metadata": {},
   "outputs": [
    {
     "name": "stdout",
     "output_type": "stream",
     "text": [
      "h 7\n",
      "e 4\n",
      "l 11\n",
      "l 11\n",
      "o 14\n",
      "  -1\n",
      "w 22\n",
      "o 14\n",
      "r 17\n",
      "l 11\n",
      "d 3\n"
     ]
    }
   ],
   "source": [
    "for char in text.lower():\n",
    "    index=alphabet.find(char)\n",
    "    print(char,index)\n",
    "    new_index = index + shift\n",
    "    "
   ]
  },
  {
   "cell_type": "markdown",
   "metadata": {},
   "source": [
    "Strings are immutable, which means they cannot be changed once created. For example, you might think that the following code changes the value of my_string into the string 'train', but this is not valid:\n",
    "\n",
    "my_string = 'brain'\n",
    "\n",
    "my_string[0] = 't'"
   ]
  },
  {
   "cell_type": "code",
   "execution_count": 27,
   "metadata": {},
   "outputs": [
    {
     "ename": "TypeError",
     "evalue": "'str' object does not support item assignment",
     "output_type": "error",
     "traceback": [
      "\u001b[1;31m---------------------------------------------------------------------------\u001b[0m",
      "\u001b[1;31mTypeError\u001b[0m                                 Traceback (most recent call last)",
      "Cell \u001b[1;32mIn[27], line 2\u001b[0m\n\u001b[0;32m      1\u001b[0m text \u001b[38;5;241m=\u001b[39m \u001b[38;5;124m'\u001b[39m\u001b[38;5;124mHello World\u001b[39m\u001b[38;5;124m'\u001b[39m\n\u001b[1;32m----> 2\u001b[0m text[\u001b[38;5;241m0\u001b[39m] \u001b[38;5;241m=\u001b[39m \u001b[38;5;124m'\u001b[39m\u001b[38;5;124mF\u001b[39m\u001b[38;5;124m'\u001b[39m\n",
      "\u001b[1;31mTypeError\u001b[0m: 'str' object does not support item assignment"
     ]
    }
   ],
   "source": [
    "text = 'Hello World'\n",
    "text[0] = 'F'"
   ]
  },
  {
   "cell_type": "markdown",
   "metadata": {},
   "source": [
    "If you try to change the individual characters of a string as you did in the previous step, you will get a TypeError. However, a variable can be reassigned another string:\n",
    "\n",
    "message = 'Hello World'\n",
    "message = 'Hello there!'"
   ]
  },
  {
   "cell_type": "code",
   "execution_count": 29,
   "metadata": {},
   "outputs": [
    {
     "name": "stdout",
     "output_type": "stream",
     "text": [
      "a 0\n",
      "l 11\n",
      "b 1\n",
      "a 0\n",
      "t 19\n",
      "r 17\n",
      "o 14\n",
      "s 18\n",
      "s 18\n"
     ]
    }
   ],
   "source": [
    "text = 'Hello World'\n",
    "text = 'Albatross'\n",
    "\n",
    "shift = 3\n",
    "alphabet = 'abcdefghijklmnopqrstuvwxyz'\n",
    "\n",
    "for char in text.lower():\n",
    "    index = alphabet.find(char)\n",
    "    print(char, index)\n",
    "    new_index = index + shift\n"
   ]
  },
  {
   "cell_type": "code",
   "execution_count": 31,
   "metadata": {},
   "outputs": [
    {
     "name": "stdout",
     "output_type": "stream",
     "text": [
      "h 7\n",
      "k\n",
      "e 4\n",
      "h\n",
      "l 11\n",
      "o\n",
      "l 11\n",
      "o\n",
      "o 14\n",
      "r\n",
      "  -1\n",
      "c\n",
      "w 22\n",
      "z\n",
      "o 14\n",
      "r\n",
      "r 17\n",
      "u\n",
      "l 11\n",
      "o\n",
      "d 3\n",
      "g\n"
     ]
    }
   ],
   "source": [
    "text = 'Hello World'\n",
    "shift = 3\n",
    "alphabet = 'abcdefghijklmnopqrstuvwxyz'\n",
    "\n",
    "for char in text.lower():\n",
    "    index = alphabet.find(char)\n",
    "    print(char, index)\n",
    "    new_index = index + shift\n",
    "    new_char = alphabet[new_index]\n",
    "    print(new_char)"
   ]
  },
  {
   "cell_type": "code",
   "execution_count": 32,
   "metadata": {},
   "outputs": [
    {
     "name": "stdout",
     "output_type": "stream",
     "text": [
      "char: h new char: k\n",
      "char: e new char: h\n",
      "char: l new char: o\n",
      "char: l new char: o\n",
      "char: o new char: r\n",
      "char:   new char: c\n",
      "char: w new char: z\n",
      "char: o new char: r\n",
      "char: r new char: u\n",
      "char: l new char: o\n",
      "char: d new char: g\n"
     ]
    }
   ],
   "source": [
    "text = 'Hello World'\n",
    "shift = 3\n",
    "alphabet = 'abcdefghijklmnopqrstuvwxyz'\n",
    "\n",
    "for char in text.lower():\n",
    "    index = alphabet.find(char)\n",
    "    \n",
    "    new_index = index + shift\n",
    "    new_char = alphabet[new_index]\n",
    "    print('char:', char, 'new char:', new_char)"
   ]
  },
  {
   "cell_type": "code",
   "execution_count": null,
   "metadata": {},
   "outputs": [],
   "source": []
  }
 ],
 "metadata": {
  "kernelspec": {
   "display_name": "Python 3 (ipykernel)",
   "language": "python",
   "name": "python3"
  },
  "language_info": {
   "codemirror_mode": {
    "name": "ipython",
    "version": 3
   },
   "file_extension": ".py",
   "mimetype": "text/x-python",
   "name": "python",
   "nbconvert_exporter": "python",
   "pygments_lexer": "ipython3",
   "version": "3.11.5"
  }
 },
 "nbformat": 4,
 "nbformat_minor": 2
}
