{
 "cells": [
  {
   "cell_type": "code",
   "execution_count": 1,
   "id": "194be5c5",
   "metadata": {},
   "outputs": [],
   "source": [
    "import pandas as pd"
   ]
  },
  {
   "cell_type": "code",
   "execution_count": 2,
   "id": "4ca6f5c1",
   "metadata": {},
   "outputs": [
    {
     "name": "stdout",
     "output_type": "stream",
     "text": [
      "   col1  col2  col3\n",
      "0     1     4     7\n",
      "1     2     5     8\n",
      "2     3     6    12\n",
      "3     4     9     1\n",
      "4     7     5    11\n"
     ]
    }
   ],
   "source": [
    "d = {'col1': [1, 2, 3, 4, 7], 'col2': [4, 5, 6, 9, 5], 'col3': [7, 8, 12, 1, 11]}\n",
    "\n",
    "df = pd.DataFrame(data=d)\n",
    "\n",
    "print(df)"
   ]
  },
  {
   "cell_type": "code",
   "execution_count": 3,
   "id": "ff78b8b0",
   "metadata": {},
   "outputs": [
    {
     "name": "stdout",
     "output_type": "stream",
     "text": [
      "3\n"
     ]
    }
   ],
   "source": [
    "count_column = df.shape[1]\n",
    "print(count_column)"
   ]
  },
  {
   "cell_type": "code",
   "execution_count": 4,
   "id": "08dbcfc1",
   "metadata": {},
   "outputs": [
    {
     "name": "stdout",
     "output_type": "stream",
     "text": [
      "5\n"
     ]
    }
   ],
   "source": [
    "count_row = df.shape[0]\n",
    "print(count_row)"
   ]
  },
  {
   "cell_type": "code",
   "execution_count": 5,
   "id": "8517a0c3",
   "metadata": {},
   "outputs": [
    {
     "name": "stdout",
     "output_type": "stream",
     "text": [
      "125\n"
     ]
    }
   ],
   "source": [
    "Average_pulse_max = max(80, 85, 90, 95, 100, 105, 110, 115, 120, 125)\n",
    "\n",
    "print (Average_pulse_max)"
   ]
  },
  {
   "cell_type": "code",
   "execution_count": 6,
   "id": "97839362",
   "metadata": {},
   "outputs": [
    {
     "name": "stdout",
     "output_type": "stream",
     "text": [
      "80\n"
     ]
    }
   ],
   "source": [
    "Average_pulse_min = min(80, 85, 90, 95, 100, 105, 110, 115, 120, 125)\n",
    "\n",
    "print (Average_pulse_min)"
   ]
  },
  {
   "cell_type": "code",
   "execution_count": 7,
   "id": "6c04a2a3",
   "metadata": {},
   "outputs": [
    {
     "name": "stdout",
     "output_type": "stream",
     "text": [
      "285.0\n"
     ]
    }
   ],
   "source": [
    "import numpy as np\n",
    "\n",
    "Calorie_burnage = [240, 250, 260, 270, 280, 290, 300, 310, 320, 330]\n",
    "\n",
    "Average_calorie_burnage = np.mean(Calorie_burnage)\n",
    "\n",
    "print(Average_calorie_burnage)"
   ]
  },
  {
   "cell_type": "markdown",
   "id": "8006514d",
   "metadata": {},
   "source": [
    "# DATA PREPARATION"
   ]
  },
  {
   "cell_type": "code",
   "execution_count": 8,
   "id": "6a71ee0a",
   "metadata": {},
   "outputs": [
    {
     "name": "stdout",
     "output_type": "stream",
     "text": [
      "    Duration Average_Pulse Max_Pulse  Calorie_Burnage  Hours_Work  Hours_Sleep\n",
      "0       30.0            80       120            240.0        10.0          7.0\n",
      "1       45.0            85       120            250.0        10.0          7.0\n",
      "2       45.0            90       130            260.0         8.0          7.0\n",
      "3       60.0            95       130            270.0         8.0          7.0\n",
      "4       60.0           100       140            280.0         0.0          7.0\n",
      "5        NaN           NaN       NaN              NaN         NaN          NaN\n",
      "6       60.0           105       140            290.0         7.0          8.0\n",
      "7       60.0           110       145            300.0         7.0          8.0\n",
      "8       45.0           NaN        AF              NaN         8.0          8.0\n",
      "9       45.0           115       145            310.0         8.0          8.0\n",
      "10      60.0           120       150            320.0         0.0          8.0\n",
      "11      60.0         9 000       130              NaN         NaN          8.0\n",
      "12      45.0           125       150            330.0         8.0          8.0\n"
     ]
    }
   ],
   "source": [
    "import pandas as pd\n",
    "\n",
    "health_data = pd.read_csv(\"data.csv\", header=0, sep=\",\")\n",
    "\n",
    "print(health_data)"
   ]
  },
  {
   "cell_type": "code",
   "execution_count": 9,
   "id": "a301adca",
   "metadata": {},
   "outputs": [
    {
     "name": "stdout",
     "output_type": "stream",
     "text": [
      "first commit\n"
     ]
    }
   ],
   "source": [
    "print(\"first commit\")"
   ]
  },
  {
   "cell_type": "code",
   "execution_count": 10,
   "id": "d93eb5b6",
   "metadata": {},
   "outputs": [
    {
     "name": "stdout",
     "output_type": "stream",
     "text": [
      "   Duration Average_Pulse Max_Pulse  Calorie_Burnage  Hours_Work  Hours_Sleep\n",
      "0      30.0            80       120            240.0        10.0          7.0\n",
      "1      45.0            85       120            250.0        10.0          7.0\n",
      "2      45.0            90       130            260.0         8.0          7.0\n",
      "3      60.0            95       130            270.0         8.0          7.0\n",
      "4      60.0           100       140            280.0         0.0          7.0\n"
     ]
    }
   ],
   "source": [
    "import pandas as pd\n",
    "\n",
    "health_data = pd.read_csv(\"data.csv\", header=0, sep=\",\")\n",
    "\n",
    "print(health_data.head())"
   ]
  },
  {
   "cell_type": "code",
   "execution_count": 11,
   "id": "a6eddd19",
   "metadata": {},
   "outputs": [
    {
     "name": "stdout",
     "output_type": "stream",
     "text": [
      "    Duration Average_Pulse Max_Pulse  Calorie_Burnage  Hours_Work  Hours_Sleep\n",
      "0       30.0            80       120            240.0        10.0          7.0\n",
      "1       45.0            85       120            250.0        10.0          7.0\n",
      "2       45.0            90       130            260.0         8.0          7.0\n",
      "3       60.0            95       130            270.0         8.0          7.0\n",
      "4       60.0           100       140            280.0         0.0          7.0\n",
      "6       60.0           105       140            290.0         7.0          8.0\n",
      "7       60.0           110       145            300.0         7.0          8.0\n",
      "9       45.0           115       145            310.0         8.0          8.0\n",
      "10      60.0           120       150            320.0         0.0          8.0\n",
      "12      45.0           125       150            330.0         8.0          8.0\n"
     ]
    }
   ],
   "source": [
    "import pandas as pd\n",
    "\n",
    "health_data = pd.read_csv(\"data.csv\", header = 0 , sep=\",\")\n",
    "\n",
    "health_data.dropna(axis=0, inplace = True)\n",
    "\n",
    "print(health_data)"
   ]
  },
  {
   "cell_type": "code",
   "execution_count": 12,
   "id": "54e7b867",
   "metadata": {},
   "outputs": [
    {
     "name": "stdout",
     "output_type": "stream",
     "text": [
      "<class 'pandas.core.frame.DataFrame'>\n",
      "RangeIndex: 13 entries, 0 to 12\n",
      "Data columns (total 6 columns):\n",
      " #   Column           Non-Null Count  Dtype  \n",
      "---  ------           --------------  -----  \n",
      " 0   Duration         12 non-null     float64\n",
      " 1   Average_Pulse    11 non-null     object \n",
      " 2   Max_Pulse        12 non-null     object \n",
      " 3   Calorie_Burnage  10 non-null     float64\n",
      " 4   Hours_Work       11 non-null     float64\n",
      " 5   Hours_Sleep      12 non-null     float64\n",
      "dtypes: float64(4), object(2)\n",
      "memory usage: 756.0+ bytes\n",
      "None\n"
     ]
    }
   ],
   "source": [
    "import pandas as pd\n",
    "\n",
    "health_data = pd.read_csv(\"data.csv\", header = 0 , sep=\",\")\n",
    "\n",
    "print(health_data.info())"
   ]
  },
  {
   "cell_type": "code",
   "execution_count": 13,
   "id": "1383d0a3",
   "metadata": {},
   "outputs": [
    {
     "name": "stdout",
     "output_type": "stream",
     "text": [
      "<class 'pandas.core.frame.DataFrame'>\n",
      "Index: 10 entries, 0 to 12\n",
      "Data columns (total 6 columns):\n",
      " #   Column           Non-Null Count  Dtype  \n",
      "---  ------           --------------  -----  \n",
      " 0   Duration         10 non-null     float64\n",
      " 1   Average_Pulse    10 non-null     float64\n",
      " 2   Max_Pulse        10 non-null     float64\n",
      " 3   Calorie_Burnage  10 non-null     float64\n",
      " 4   Hours_Work       10 non-null     float64\n",
      " 5   Hours_Sleep      10 non-null     float64\n",
      "dtypes: float64(6)\n",
      "memory usage: 560.0 bytes\n",
      "None\n"
     ]
    }
   ],
   "source": [
    "import pandas as pd\n",
    "\n",
    "health_data = pd.read_csv(\"data.csv\", header=0, sep=\",\")\n",
    "health_data.dropna(axis=0,inplace=True)\n",
    "\n",
    "health_data[\"Average_Pulse\"] = health_data['Average_Pulse'].astype(float)\n",
    "health_data[\"Max_Pulse\"] = health_data[\"Max_Pulse\"].astype(float)\n",
    "\n",
    "print(health_data.info())"
   ]
  },
  {
   "cell_type": "code",
   "execution_count": 14,
   "id": "87fcb966",
   "metadata": {},
   "outputs": [
    {
     "name": "stdout",
     "output_type": "stream",
     "text": [
      "        Duration  Average_Pulse   Max_Pulse  Calorie_Burnage  Hours_Work  \\\n",
      "count  10.000000      10.000000   10.000000        10.000000   10.000000   \n",
      "mean   51.000000     102.500000  137.000000       285.000000    6.600000   \n",
      "std    10.488088      15.138252   11.352924        30.276504    3.627059   \n",
      "min    30.000000      80.000000  120.000000       240.000000    0.000000   \n",
      "25%    45.000000      91.250000  130.000000       262.500000    7.000000   \n",
      "50%    52.500000     102.500000  140.000000       285.000000    8.000000   \n",
      "75%    60.000000     113.750000  145.000000       307.500000    8.000000   \n",
      "max    60.000000     125.000000  150.000000       330.000000   10.000000   \n",
      "\n",
      "       Hours_Sleep  \n",
      "count    10.000000  \n",
      "mean      7.500000  \n",
      "std       0.527046  \n",
      "min       7.000000  \n",
      "25%       7.000000  \n",
      "50%       7.500000  \n",
      "75%       8.000000  \n",
      "max       8.000000  \n"
     ]
    }
   ],
   "source": [
    "import pandas as pd\n",
    "\n",
    "health_data = pd.read_csv(\"data.csv\", header=0, sep=\",\")\n",
    "health_data.dropna(axis=0,inplace=True)\n",
    "\n",
    "health_data[\"Average_Pulse\"] = health_data['Average_Pulse'].astype(float)\n",
    "health_data[\"Max_Pulse\"] = health_data[\"Max_Pulse\"].astype(float)\n",
    "\n",
    "pd.set_option('display.max_columns',None)\n",
    "\n",
    "print(health_data.describe())"
   ]
  },
  {
   "cell_type": "markdown",
   "id": "cc42b17a",
   "metadata": {},
   "source": [
    "# Doğrusal(Linear) Fonksiyonlar\n",
    "Matematikte bir fonksiyon, bir değişkeni başka bir değişkenle ilişkilendirmek için kullanılır.\n",
    "\n",
    "Kalori yakımı ile ortalama nabız arasındaki ilişkiyi ele aldığımızı varsayalım. Genel olarak, ortalama nabız değiştikçe kalori yakımının da değişeceğini varsaymak mantıklıdır - kalori yakımının ortalama nabza bağlı olduğunu söyleriz.\n",
    "\n",
    "Ayrıca, ortalama nabız arttıkça kalori yakımının da artacağını varsaymak makul olabilir. Kalori yakımı ve ortalama nabız dikkate alınan iki değişkendir.\n",
    "\n",
    "Kalori yakımı ortalama nabza bağlı olduğu için, kalori yakımının bağımlı değişken, ortalama nabzın ise bağımsız değişken olduğunu söyleyebiliriz.\n",
    "\n",
    "Bağımlı ve bağımsız değişken arasındaki ilişki genellikle bir formül (fonksiyon) kullanılarak matematiksel olarak ifade edilebilir.\n",
    "\n",
    "Doğrusal bir fonksiyonun bir bağımsız değişkeni (x) ve bir bağımlı değişkeni (y) vardır ve aşağıdaki biçime sahiptir:\n",
    "\n",
    "y = f(x) = ax + b\n",
    "\n",
    "Bu fonksiyon, bağımsız değişken için bir değer seçtiğimizde bağımlı değişken için bir değer hesaplamak için kullanılır.\n",
    "\n",
    "Açıklama:\n",
    "\n",
    "f(x) = çıktı (bağımlı değişken)\n",
    "x = girdi (bağımsız değişken)\n",
    "a = eğim = bağımsız değişkenin katsayısıdır. Bağımlı değişkenin değişim oranını verir\n",
    "b = kesişim = x = 0 olduğunda bağımlı değişkenin değeridir. Aynı zamanda diyagonal çizginin dikey ekseni kestiği noktadır.\n",
    "\n",
    "## Tek Açıklayıcı Değişkenli Doğrusal Fonksiyon(Linear Function With One Explanatory Variable)\n",
    "Tek açıklayıcı değişkenli bir fonksiyon, tahmin için tek bir değişken kullandığımız anlamına gelir.\n",
    "\n",
    "Diyelim ki ortalama nabzı kullanarak kalori yakımını tahmin etmek istiyoruz. Aşağıdaki formüle sahibiz:\n",
    "\n",
    "f(x) = 2x + 80\n",
    "Burada, sayılar ve değişkenler anlamına gelir:\n",
    "\n",
    "f(x) = Çıktı. Bu sayı, Calorie_Burnage'ın tahmin edilen değerini elde ettiğimiz yerdir\n",
    "x = Average_Pulse olan giriş\n",
    "2 = Eğim = Ortalama_Nabız bir artarsa Kalori_Yakımının ne kadar artacağını belirtir. Diyagonal çizginin ne kadar \"dik\" olduğunu söyler\n",
    "80 = Kesişim = Sabit bir değer. x = 0 olduğunda bağımlı değişkenin değeridir.\n",
    "\n",
    "### Doğrusal Bir Fonksiyonun Çizimi\n",
    "Doğrusallık terimi \"düz bir çizgi\" anlamına gelir. Yani, doğrusal bir fonksiyonu grafiksel olarak gösterirseniz, çizgi her zaman düz bir çizgi olacaktır. Çizgi yukarıya, aşağıya doğru eğimli olabilir ve bazı durumlarda yatay veya dikey olabilir.\n",
    "\n",
    "İşte yukarıdaki matematiksel fonksiyonun grafiksel bir gösterimi: \n",
    "\n",
    "![Doğrusal Fonksiyonun Grafiği](dogrusal-fonksiyon-grafik.png)\n",
    "\n",
    "Grafik Açıklamaları:\n",
    "Yatay eksen genellikle x ekseni olarak adlandırılır. Burada, Average_Pulse değerini temsil eder.\n",
    "Dikey eksen genellikle y ekseni olarak adlandırılır. Burada, Kalori_Yakımını temsil eder.\n",
    "Kalori_Yakımı, Ortalama_Nabız'ın bir fonksiyonudur, çünkü Kalori_Yakımı'nın Ortalama_Nabız'a bağlı olduğu varsayılır.\n",
    "Başka bir deyişle, Kalori_Yakımını tahmin etmek için Ortalama_Nabız'ı kullanırız.\n",
    "Mavi (diyagonal) çizgi, kalori yakımını tahmin eden matematiksel fonksiyonun yapısını temsil eder.\n"
   ]
  },
  {
   "cell_type": "code",
   "execution_count": 16,
   "id": "a2eee97d",
   "metadata": {
    "scrolled": true
   },
   "outputs": [
    {
     "data": {
      "image/png": "[encoded data removed]",
      "text/plain": [
       "<Figure size 640x480 with 1 Axes>"
      ]
     },
     "metadata": {},
     "output_type": "display_data"
    }
   ],
   "source": [
    "# Jupyter Notebook için sihirli komut\n",
    "%matplotlib inline\n",
    "\n",
    "import pandas as pd\n",
    "import matplotlib.pyplot as plt\n",
    "\n",
    "# Veri setini yükleme\n",
    "health_data = pd.read_csv(\"data.csv\", header=0, sep=\",\")\n",
    "\n",
    "# Çizim yapma\n",
    "health_data.plot(x='Average_Pulse', y='Calorie_Burnage', kind='line')\n",
    "plt.ylim(ymin=0)\n",
    "plt.xlim(xmin=0)\n",
    "\n",
    "# Eğer `%matplotlib inline` sihirli komutunu kullanıyorsanız, bu satır opsiyoneldir.\n",
    "# plt.show() # Bu satırı çıkarabilirsiniz.\n",
    "plt.show()\n"
   ]
  },
  {
   "cell_type": "code",
   "execution_count": 17,
   "id": "267041d0",
   "metadata": {},
   "outputs": [
    {
     "name": "stdout",
     "output_type": "stream",
     "text": [
      "2.0\n"
     ]
    }
   ],
   "source": [
    "def slope(x1, y1, x2, y2):\n",
    "  s = (y2-y1)/(x2-x1)\n",
    "  return s\n",
    "\n",
    "print(slope(80,240,90,260))"
   ]
  },
  {
   "cell_type": "code",
   "execution_count": null,
   "id": "11d6625b",
   "metadata": {},
   "outputs": [],
   "source": []
  }
 ],
 "metadata": {
  "kernelspec": {
   "display_name": "Python 3 (ipykernel)",
   "language": "python",
   "name": "python3"
  },
  "language_info": {
   "codemirror_mode": {
    "name": "ipython",
    "version": 3
   },
   "file_extension": ".py",
   "mimetype": "text/x-python",
   "name": "python",
   "nbconvert_exporter": "python",
   "pygments_lexer": "ipython3",
   "version": "3.11.5"
  }
 },
 "nbformat": 4,
 "nbformat_minor": 5
}
